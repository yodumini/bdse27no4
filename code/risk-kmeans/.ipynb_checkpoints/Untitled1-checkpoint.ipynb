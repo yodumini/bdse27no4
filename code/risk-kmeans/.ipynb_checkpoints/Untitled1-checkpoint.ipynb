{
 "cells": [
  {
   "cell_type": "code",
   "execution_count": null,
   "id": "ce9be1da",
   "metadata": {},
   "outputs": [],
   "source": [
    "import pandas as pd\n",
    "from glob import glob\n",
    "import os\n",
    "#載入OS模組\n",
    "files = glob('C:/Users/User/Desktop/data/*.csv')\n",
    "# print(files)\n",
    "\n",
    "path = 'C:/Users/User/Desktop/data/'\n",
    "\n",
    "all_file_name = os.listdir(path)\n",
    "#↑獲取當前資料夾名稱然後存成dir_path變數\n",
    "print(all_file_name)\n",
    "\n",
    "for i in all_file_name:\n",
    "    df = pd.read_csv(path + i)\n",
    "    df['name'] = i.split('.')[0]\n",
    "    df.to_csv(path + i, index=False)\n",
    "    \n",
    "    \n"
   ]
  },
  {
   "cell_type": "code",
   "execution_count": null,
   "id": "188db0ce",
   "metadata": {},
   "outputs": [],
   "source": [
    "# csv_read_file = pd.read_csv(\"C:/Users/User/Desktop/monotest/data/聚類结果.csv\", encoding=\"utf-8\")\n",
    "\n",
    "# csv_read_file = csv_read_file.drop(['name'],axis=1)\n",
    "\n",
    "# csv_read_data = csv_read_file.values.tolist()\n",
    "\n",
    "# print(csv_read_data[4][1])\n",
    "\n",
    "# # csv_read_data\n",
    "\n",
    "# # for row in range(len(csv_read_data)):\n",
    "# #     print(csv_read_data[row][0], csv_read_data[row][1])"
   ]
  },
  {
   "cell_type": "code",
   "execution_count": null,
   "id": "f4dc427e",
   "metadata": {},
   "outputs": [],
   "source": [
    "# import os\n",
    "# #↑載入OS模組\n",
    "\n",
    "\n",
    "\n",
    "# dir_path = os.path.dirname('C:/Users/User/Desktop/data/*')\n",
    "# #↑獲取當前資料夾名稱然後存成dir_path變數\n",
    "# all_file_name = os.listdir(dir_path)\n",
    "\n",
    "# for i in all_file_name:\n",
    "#     i.split('.')[0]\n",
    "    \n",
    "# y = [i.split('.')[0] for i in all_file_name]    \n",
    "# print(y)\n",
    "\n",
    "# #↑讀取資料夾內所有檔案名稱然後放進all_file_name這個list裡\n",
    "# #all_file_name = all_file_name.split('.')\n",
    "\n",
    "# #print(all_file_name)"
   ]
  },
  {
   "cell_type": "code",
   "execution_count": null,
   "id": "419c79b3",
   "metadata": {},
   "outputs": [],
   "source": [
    "df = pd.concat(\n",
    "    (pd.read_csv(file, usecols=['name','open_time','open','close','volume','high','low']) for file in files), ignore_index=True)\n",
    " \n",
    "print(df)\n"
   ]
  },
  {
   "cell_type": "code",
   "execution_count": null,
   "id": "df964944",
   "metadata": {},
   "outputs": [],
   "source": [
    "cols = df.columns.tolist()                     # 把df的列名称，取出来放到一个list里边。即返回['a', 'b', 'c', 'd', 'e', 'mean']\n",
    "cols.insert(0, cols.pop(cols.index('name')))   # pop()把mean从cols列表里挖出来，通过位置参数“0”，然后放到第一列。\n",
    "df_final = df[cols]                            # df按照cols序列，把mean字段放到了第一列\n",
    "\n",
    "print(df_final)\n",
    "path = 'C:/Users/User/Desktop/data/'\n",
    "df_final.to_csv(path +'1newalldata.csv', index=False)"
   ]
  },
  {
   "cell_type": "code",
   "execution_count": 2,
   "id": "e3e27961",
   "metadata": {},
   "outputs": [
    {
     "data": {
      "text/html": [
       "<div>\n",
       "<style scoped>\n",
       "    .dataframe tbody tr th:only-of-type {\n",
       "        vertical-align: middle;\n",
       "    }\n",
       "\n",
       "    .dataframe tbody tr th {\n",
       "        vertical-align: top;\n",
       "    }\n",
       "\n",
       "    .dataframe thead th {\n",
       "        text-align: right;\n",
       "    }\n",
       "</style>\n",
       "<table border=\"1\" class=\"dataframe\">\n",
       "  <thead>\n",
       "    <tr style=\"text-align: right;\">\n",
       "      <th></th>\n",
       "      <th>name</th>\n",
       "      <th>open_time</th>\n",
       "      <th>open</th>\n",
       "      <th>high</th>\n",
       "      <th>low</th>\n",
       "      <th>close</th>\n",
       "      <th>volume</th>\n",
       "    </tr>\n",
       "  </thead>\n",
       "  <tbody>\n",
       "    <tr>\n",
       "      <th>130084</th>\n",
       "      <td>ZRXUSDT</td>\n",
       "      <td>1664150400000</td>\n",
       "      <td>0.2683</td>\n",
       "      <td>0.2715</td>\n",
       "      <td>0.2593</td>\n",
       "      <td>0.2682</td>\n",
       "      <td>2699807.0</td>\n",
       "    </tr>\n",
       "    <tr>\n",
       "      <th>130085</th>\n",
       "      <td>ZRXUSDT</td>\n",
       "      <td>1664236800000</td>\n",
       "      <td>0.2683</td>\n",
       "      <td>0.2811</td>\n",
       "      <td>0.2625</td>\n",
       "      <td>0.2660</td>\n",
       "      <td>4757826.0</td>\n",
       "    </tr>\n",
       "    <tr>\n",
       "      <th>130086</th>\n",
       "      <td>ZRXUSDT</td>\n",
       "      <td>1664323200000</td>\n",
       "      <td>0.2660</td>\n",
       "      <td>0.2746</td>\n",
       "      <td>0.2575</td>\n",
       "      <td>0.2671</td>\n",
       "      <td>6995950.0</td>\n",
       "    </tr>\n",
       "    <tr>\n",
       "      <th>130087</th>\n",
       "      <td>ZRXUSDT</td>\n",
       "      <td>1664409600000</td>\n",
       "      <td>0.2672</td>\n",
       "      <td>0.2710</td>\n",
       "      <td>0.2614</td>\n",
       "      <td>0.2698</td>\n",
       "      <td>3470136.0</td>\n",
       "    </tr>\n",
       "    <tr>\n",
       "      <th>130088</th>\n",
       "      <td>ZRXUSDT</td>\n",
       "      <td>1664496000000</td>\n",
       "      <td>0.2700</td>\n",
       "      <td>0.2718</td>\n",
       "      <td>0.2642</td>\n",
       "      <td>0.2673</td>\n",
       "      <td>2844533.0</td>\n",
       "    </tr>\n",
       "  </tbody>\n",
       "</table>\n",
       "</div>"
      ],
      "text/plain": [
       "           name      open_time    open    high     low   close     volume\n",
       "130084  ZRXUSDT  1664150400000  0.2683  0.2715  0.2593  0.2682  2699807.0\n",
       "130085  ZRXUSDT  1664236800000  0.2683  0.2811  0.2625  0.2660  4757826.0\n",
       "130086  ZRXUSDT  1664323200000  0.2660  0.2746  0.2575  0.2671  6995950.0\n",
       "130087  ZRXUSDT  1664409600000  0.2672  0.2710  0.2614  0.2698  3470136.0\n",
       "130088  ZRXUSDT  1664496000000  0.2700  0.2718  0.2642  0.2673  2844533.0"
      ]
     },
     "execution_count": 2,
     "metadata": {},
     "output_type": "execute_result"
    }
   ],
   "source": [
    "import numpy as np\n",
    "import csv\n",
    "import pandas as pd\n",
    "import xgboost as xgb\n",
    "from sklearn.model_selection import train_test_split\n",
    "from sklearn.metrics import mean_squared_error, r2_score\n",
    "\n",
    "df = pd.read_csv('C:/Users/User/Desktop/diss24kmeans-main/data/1newalldata.csv',usecols=['name','open_time','open','close','low','high','volume'],on_bad_lines='skip')\n",
    "df.tail()"
   ]
  },
  {
   "cell_type": "code",
   "execution_count": 3,
   "id": "fa4ac688",
   "metadata": {},
   "outputs": [],
   "source": [
    "df=df.groupby('name').tail(30)\n"
   ]
  },
  {
   "cell_type": "code",
   "execution_count": 4,
   "id": "69c81e65",
   "metadata": {},
   "outputs": [],
   "source": [
    "df['change'] = df.groupby('name')['close'].shift(-1)\n",
    "df = df.dropna()\n",
    "\n",
    "df['change'] = df['change']-df['open']"
   ]
  },
  {
   "cell_type": "code",
   "execution_count": 5,
   "id": "87160ba6",
   "metadata": {},
   "outputs": [],
   "source": [
    "std = df.groupby('name')[\"change\"].std().rename(\"std\").reset_index()\n",
    "\n",
    "\n",
    "\n",
    "high = df.groupby('name')[\"high\"].max().rename(\"high\").reset_index()\n",
    "\n",
    "\n",
    "low = df.groupby('name')[\"low\"].min().rename(\"low\").reset_index()"
   ]
  },
  {
   "cell_type": "code",
   "execution_count": 6,
   "id": "74267efc",
   "metadata": {},
   "outputs": [],
   "source": [
    "vol = df.groupby('name')[\"volume\"].mean().rename(\"vol\").reset_index()"
   ]
  },
  {
   "cell_type": "code",
   "execution_count": 7,
   "id": "883e89e2",
   "metadata": {},
   "outputs": [],
   "source": [
    "df = pd.merge(std,high, on='name')"
   ]
  },
  {
   "cell_type": "code",
   "execution_count": null,
   "id": "a9e911a5",
   "metadata": {},
   "outputs": [],
   "source": [
    "df = pd.merge(df,low, on='name')\n",
    "df"
   ]
  },
  {
   "cell_type": "code",
   "execution_count": 8,
   "id": "e9c88fe1",
   "metadata": {},
   "outputs": [],
   "source": [
    "df = pd.merge(df,vol, on='name')"
   ]
  },
  {
   "cell_type": "code",
   "execution_count": 9,
   "id": "de567028",
   "metadata": {},
   "outputs": [
    {
     "data": {
      "text/html": [
       "<div>\n",
       "<style scoped>\n",
       "    .dataframe tbody tr th:only-of-type {\n",
       "        vertical-align: middle;\n",
       "    }\n",
       "\n",
       "    .dataframe tbody tr th {\n",
       "        vertical-align: top;\n",
       "    }\n",
       "\n",
       "    .dataframe thead th {\n",
       "        text-align: right;\n",
       "    }\n",
       "</style>\n",
       "<table border=\"1\" class=\"dataframe\">\n",
       "  <thead>\n",
       "    <tr style=\"text-align: right;\">\n",
       "      <th></th>\n",
       "      <th>name</th>\n",
       "      <th>std</th>\n",
       "      <th>high</th>\n",
       "      <th>vol</th>\n",
       "    </tr>\n",
       "  </thead>\n",
       "  <tbody>\n",
       "    <tr>\n",
       "      <th>0</th>\n",
       "      <td>1INCHUSDT</td>\n",
       "      <td>0.030941</td>\n",
       "      <td>0.739000</td>\n",
       "      <td>2.639980e+06</td>\n",
       "    </tr>\n",
       "    <tr>\n",
       "      <th>1</th>\n",
       "      <td>1newalldata</td>\n",
       "      <td>0.014797</td>\n",
       "      <td>0.332100</td>\n",
       "      <td>1.031262e+06</td>\n",
       "    </tr>\n",
       "    <tr>\n",
       "      <th>2</th>\n",
       "      <td>AAVEUSDT</td>\n",
       "      <td>3.976538</td>\n",
       "      <td>97.000000</td>\n",
       "      <td>4.645715e+04</td>\n",
       "    </tr>\n",
       "    <tr>\n",
       "      <th>3</th>\n",
       "      <td>ADADOWNUSDT</td>\n",
       "      <td>0.000422</td>\n",
       "      <td>0.005043</td>\n",
       "      <td>9.788420e+07</td>\n",
       "    </tr>\n",
       "    <tr>\n",
       "      <th>4</th>\n",
       "      <td>ADAUPUSDT</td>\n",
       "      <td>0.111665</td>\n",
       "      <td>1.357000</td>\n",
       "      <td>1.001074e+06</td>\n",
       "    </tr>\n",
       "    <tr>\n",
       "      <th>...</th>\n",
       "      <td>...</td>\n",
       "      <td>...</td>\n",
       "      <td>...</td>\n",
       "      <td>...</td>\n",
       "    </tr>\n",
       "    <tr>\n",
       "      <th>199</th>\n",
       "      <td>YFIUSDT</td>\n",
       "      <td>614.083808</td>\n",
       "      <td>11380.000000</td>\n",
       "      <td>2.019463e+02</td>\n",
       "    </tr>\n",
       "    <tr>\n",
       "      <th>200</th>\n",
       "      <td>ZECUSDT</td>\n",
       "      <td>3.164524</td>\n",
       "      <td>66.900000</td>\n",
       "      <td>2.959533e+04</td>\n",
       "    </tr>\n",
       "    <tr>\n",
       "      <th>201</th>\n",
       "      <td>ZENUSDT</td>\n",
       "      <td>0.879873</td>\n",
       "      <td>17.250000</td>\n",
       "      <td>3.375273e+04</td>\n",
       "    </tr>\n",
       "    <tr>\n",
       "      <th>202</th>\n",
       "      <td>ZILUSDT</td>\n",
       "      <td>0.001481</td>\n",
       "      <td>0.038460</td>\n",
       "      <td>7.954739e+07</td>\n",
       "    </tr>\n",
       "    <tr>\n",
       "      <th>203</th>\n",
       "      <td>ZRXUSDT</td>\n",
       "      <td>0.014797</td>\n",
       "      <td>0.332100</td>\n",
       "      <td>1.031262e+06</td>\n",
       "    </tr>\n",
       "  </tbody>\n",
       "</table>\n",
       "<p>204 rows × 4 columns</p>\n",
       "</div>"
      ],
      "text/plain": [
       "            name         std          high           vol\n",
       "0      1INCHUSDT    0.030941      0.739000  2.639980e+06\n",
       "1    1newalldata    0.014797      0.332100  1.031262e+06\n",
       "2       AAVEUSDT    3.976538     97.000000  4.645715e+04\n",
       "3    ADADOWNUSDT    0.000422      0.005043  9.788420e+07\n",
       "4      ADAUPUSDT    0.111665      1.357000  1.001074e+06\n",
       "..           ...         ...           ...           ...\n",
       "199      YFIUSDT  614.083808  11380.000000  2.019463e+02\n",
       "200      ZECUSDT    3.164524     66.900000  2.959533e+04\n",
       "201      ZENUSDT    0.879873     17.250000  3.375273e+04\n",
       "202      ZILUSDT    0.001481      0.038460  7.954739e+07\n",
       "203      ZRXUSDT    0.014797      0.332100  1.031262e+06\n",
       "\n",
       "[204 rows x 4 columns]"
      ]
     },
     "execution_count": 9,
     "metadata": {},
     "output_type": "execute_result"
    }
   ],
   "source": [
    "df"
   ]
  },
  {
   "cell_type": "code",
   "execution_count": 10,
   "id": "84d7f838",
   "metadata": {},
   "outputs": [
    {
     "name": "stdout",
     "output_type": "stream",
     "text": [
      "Shape Of The Before Ouliers:  (204, 4)\n",
      "Shape Of The After Ouliers:  (169, 4)\n"
     ]
    }
   ],
   "source": [
    "print (\"Shape Of The Before Ouliers: \",df.shape)\n",
    "n=1.5\n",
    "#IQR = Q3-Q1\n",
    "IQR = np.percentile(df['std'],75) - np.percentile(df['std'],25)\n",
    "#outlier = Q3 + n*IQR \n",
    "df=df[df['std'] < np.percentile(df['std'],75)+n*IQR]\n",
    "#outlier = Q1 - n*IQR \n",
    "df=df[df['std'] > np.percentile(df['std'],25)-n*IQR]\n",
    "print (\"Shape Of The After Ouliers: \",df.shape)"
   ]
  },
  {
   "cell_type": "code",
   "execution_count": 11,
   "id": "6addee8e",
   "metadata": {},
   "outputs": [
    {
     "data": {
      "text/html": [
       "<div>\n",
       "<style scoped>\n",
       "    .dataframe tbody tr th:only-of-type {\n",
       "        vertical-align: middle;\n",
       "    }\n",
       "\n",
       "    .dataframe tbody tr th {\n",
       "        vertical-align: top;\n",
       "    }\n",
       "\n",
       "    .dataframe thead th {\n",
       "        text-align: right;\n",
       "    }\n",
       "</style>\n",
       "<table border=\"1\" class=\"dataframe\">\n",
       "  <thead>\n",
       "    <tr style=\"text-align: right;\">\n",
       "      <th></th>\n",
       "      <th>name</th>\n",
       "      <th>std</th>\n",
       "      <th>high</th>\n",
       "      <th>vol</th>\n",
       "    </tr>\n",
       "  </thead>\n",
       "  <tbody>\n",
       "    <tr>\n",
       "      <th>0</th>\n",
       "      <td>1INCHUSDT</td>\n",
       "      <td>0.030941</td>\n",
       "      <td>0.739000</td>\n",
       "      <td>2.639980e+06</td>\n",
       "    </tr>\n",
       "    <tr>\n",
       "      <th>1</th>\n",
       "      <td>1newalldata</td>\n",
       "      <td>0.014797</td>\n",
       "      <td>0.332100</td>\n",
       "      <td>1.031262e+06</td>\n",
       "    </tr>\n",
       "    <tr>\n",
       "      <th>3</th>\n",
       "      <td>ADADOWNUSDT</td>\n",
       "      <td>0.000422</td>\n",
       "      <td>0.005043</td>\n",
       "      <td>9.788420e+07</td>\n",
       "    </tr>\n",
       "    <tr>\n",
       "      <th>4</th>\n",
       "      <td>ADAUPUSDT</td>\n",
       "      <td>0.111665</td>\n",
       "      <td>1.357000</td>\n",
       "      <td>1.001074e+06</td>\n",
       "    </tr>\n",
       "    <tr>\n",
       "      <th>5</th>\n",
       "      <td>ADAUSDT</td>\n",
       "      <td>0.022162</td>\n",
       "      <td>0.524200</td>\n",
       "      <td>1.002811e+08</td>\n",
       "    </tr>\n",
       "    <tr>\n",
       "      <th>...</th>\n",
       "      <td>...</td>\n",
       "      <td>...</td>\n",
       "      <td>...</td>\n",
       "      <td>...</td>\n",
       "    </tr>\n",
       "    <tr>\n",
       "      <th>195</th>\n",
       "      <td>XRPUSDT</td>\n",
       "      <td>0.032041</td>\n",
       "      <td>0.559000</td>\n",
       "      <td>9.591339e+07</td>\n",
       "    </tr>\n",
       "    <tr>\n",
       "      <th>196</th>\n",
       "      <td>XTZUSDT</td>\n",
       "      <td>0.074038</td>\n",
       "      <td>1.757000</td>\n",
       "      <td>9.650269e+05</td>\n",
       "    </tr>\n",
       "    <tr>\n",
       "      <th>197</th>\n",
       "      <td>XVSUSDT</td>\n",
       "      <td>0.197150</td>\n",
       "      <td>5.520000</td>\n",
       "      <td>4.657829e+04</td>\n",
       "    </tr>\n",
       "    <tr>\n",
       "      <th>202</th>\n",
       "      <td>ZILUSDT</td>\n",
       "      <td>0.001481</td>\n",
       "      <td>0.038460</td>\n",
       "      <td>7.954739e+07</td>\n",
       "    </tr>\n",
       "    <tr>\n",
       "      <th>203</th>\n",
       "      <td>ZRXUSDT</td>\n",
       "      <td>0.014797</td>\n",
       "      <td>0.332100</td>\n",
       "      <td>1.031262e+06</td>\n",
       "    </tr>\n",
       "  </tbody>\n",
       "</table>\n",
       "<p>169 rows × 4 columns</p>\n",
       "</div>"
      ],
      "text/plain": [
       "            name       std      high           vol\n",
       "0      1INCHUSDT  0.030941  0.739000  2.639980e+06\n",
       "1    1newalldata  0.014797  0.332100  1.031262e+06\n",
       "3    ADADOWNUSDT  0.000422  0.005043  9.788420e+07\n",
       "4      ADAUPUSDT  0.111665  1.357000  1.001074e+06\n",
       "5        ADAUSDT  0.022162  0.524200  1.002811e+08\n",
       "..           ...       ...       ...           ...\n",
       "195      XRPUSDT  0.032041  0.559000  9.591339e+07\n",
       "196      XTZUSDT  0.074038  1.757000  9.650269e+05\n",
       "197      XVSUSDT  0.197150  5.520000  4.657829e+04\n",
       "202      ZILUSDT  0.001481  0.038460  7.954739e+07\n",
       "203      ZRXUSDT  0.014797  0.332100  1.031262e+06\n",
       "\n",
       "[169 rows x 4 columns]"
      ]
     },
     "execution_count": 11,
     "metadata": {},
     "output_type": "execute_result"
    }
   ],
   "source": [
    "df"
   ]
  },
  {
   "cell_type": "code",
   "execution_count": null,
   "id": "a454558e",
   "metadata": {},
   "outputs": [],
   "source": [
    "def MinMaxNormalization(test_data):\n",
    "    return test_data.apply(lambda x:(x-np.min(x))/(np.max(x)-np.min(x)))\n",
    "df[['std','high','vol']] = MinMaxNormalization(df[['std','high','vol']])"
   ]
  },
  {
   "cell_type": "code",
   "execution_count": 12,
   "id": "738148e9",
   "metadata": {},
   "outputs": [],
   "source": [
    "from sklearn import preprocessing\n",
    "#建立RobustScaler物件\n",
    "zscore = preprocessing.RobustScaler()\n",
    "# 資料標準化\n",
    "df[['std','high','vol']]  = zscore.fit_transform(df[['std','high','vol']])"
   ]
  },
  {
   "cell_type": "code",
   "execution_count": 13,
   "id": "492cfd2c",
   "metadata": {},
   "outputs": [],
   "source": [
    "path = 'C:/Users/User/Desktop/diss24kmeans-main/data/'"
   ]
  },
  {
   "cell_type": "code",
   "execution_count": 16,
   "id": "c858ed49",
   "metadata": {},
   "outputs": [],
   "source": [
    "from sklearn.cluster import KMeans\n",
    "import os\n",
    "# 设置为兩个聚类中心\n",
    "Kmeans = KMeans(n_clusters=2)# 分幾群\n",
    "# 训练模型\n",
    "Kmeans.fit(df[['std','high','vol']])\n",
    "Kmeans.cluster_centers_ # 聚类中心\n",
    "Kmeans.labels_ # 聚类结果\n",
    "out_file = pd.DataFrame(columns=['name','std','high','vol'])\n",
    "out_file[['name','std','high','vol']] = df\n",
    "out_file['聚類结果'] = Kmeans.labels_\n",
    "out_file.to_csv(os.path.join(path,'聚類结果.csv'),index=False,encoding=\"utf_8_sig\")"
   ]
  },
  {
   "cell_type": "code",
   "execution_count": 17,
   "id": "bce20412",
   "metadata": {},
   "outputs": [
    {
     "data": {
      "image/png": "[encoded data removed]",
      "text/plain": [
       "<Figure size 432x288 with 1 Axes>"
      ]
     },
     "metadata": {
      "needs_background": "light"
     },
     "output_type": "display_data"
    },
    {
     "data": {
      "image/png": "[encoded data removed]",
      "text/plain": [
       "<Figure size 432x288 with 1 Axes>"
      ]
     },
     "metadata": {},
     "output_type": "display_data"
    },
    {
     "data": {
      "image/png": "[encoded data removed]",
      "text/plain": [
       "<Figure size 432x288 with 1 Axes>"
      ]
     },
     "metadata": {
      "needs_background": "light"
     },
     "output_type": "display_data"
    }
   ],
   "source": [
    "import matplotlib.pyplot as plt\n",
    "label_pred = Kmeans.labels_ #获取聚类标签\n",
    "centroids = Kmeans.cluster_centers_ #获取聚类中心\n",
    "inertia = Kmeans.inertia_ # 获取聚类准则的总和\n",
    "mark = ['or', '^b', '+g', 'ok', '^r', '+r', 'sr', 'dr', '<r', 'pr']\n",
    "#这里'or'代表中的'o'代表画圈，'r'代表颜色为红色，后面的依次类推\n",
    "j = 0 \n",
    "for i in label_pred:\n",
    "    plt.plot([df[j:j+1][\"std\"]], [df[j:j+1]['high']], mark[i], markersize = 5)\n",
    "    j +=1\n",
    "plt.title('std-high')\n",
    "plt.xlabel('std')\n",
    "plt.ylabel('high')\n",
    "plt.savefig(path+'1std-high.png',dpi=100,bbox_inches='tight')\n",
    "plt.cla()\n",
    "j = 0 \n",
    "# plt.show()\n",
    "for i in label_pred:\n",
    "    plt.plot([df[j:j+1][\"std\"]], [df[j:j+1]['vol']], mark[i], markersize = 5)\n",
    "    j +=1\n",
    "plt.title('std-vol')\n",
    "plt.xlabel('std')\n",
    "plt.ylabel('vol)')\n",
    "plt.savefig(path+'1std-vol.png',dpi=100,bbox_inches='tight')\n",
    "plt.cla()\n",
    "j = 0 \n",
    "for i in label_pred:\n",
    "    plt.plot([df[j:j+1][\"high\"]], [df[j:j+1]['vol']], mark[i], markersize = 5)\n",
    "    j +=1\n",
    "plt.title('high-vol')\n",
    "plt.xlabel('high')\n",
    "plt.ylabel('vol')\n",
    "plt.savefig(path+'1high-vol.png',dpi=100,bbox_inches='tight')\n",
    "plt.cla()\n",
    "plt.figure(\"3D Scatter\", facecolor=\"lightgray\")\n",
    "ax3d = plt.subplot(projection=\"3d\")  # 创建三维坐标\n",
    "\n",
    "plt.title('3D Scatter', fontsize=20)\n",
    "ax3d.set_xlabel('std', fontsize=14)\n",
    "ax3d.set_ylabel('high', fontsize=14)\n",
    "ax3d.set_zlabel('vol', fontsize=14)\n",
    "plt.tick_params(labelsize=10)\n",
    "ax3d.scatter(df[\"std\"], df[\"high\"], df['vol'], s=20, c = label_pred,cmap=\"jet\", marker=\"o\")\n",
    "plt.show()\n",
    "\n",
    "plt.scatter(df[\"std\"],df[\"high\"],c=label_pred, s=50, cmap='brg')\n",
    "ax3d.figure.savefig(path+'3d.png')"
   ]
  },
  {
   "cell_type": "code",
   "execution_count": null,
   "id": "d20c5a88",
   "metadata": {},
   "outputs": [],
   "source": [
    "model.save(path+'kmeans_model.h5')"
   ]
  },
  {
   "cell_type": "code",
   "execution_count": null,
   "id": "9505acad",
   "metadata": {},
   "outputs": [],
   "source": [
    "from sklearn import preprocessing\n",
    "X =df[['std','Allvolume','openmean','closemean']]\n",
    "X = np.array(X)\n",
    "zscore = preprocessing.StandardScaler()\n",
    "X = zscore.fit_transform(X)"
   ]
  },
  {
   "cell_type": "code",
   "execution_count": null,
   "id": "813a67a2",
   "metadata": {},
   "outputs": [],
   "source": [
    "#print(df.loc[:,'std'].max())"
   ]
  },
  {
   "cell_type": "code",
   "execution_count": null,
   "id": "101228b1",
   "metadata": {},
   "outputs": [],
   "source": [
    "#df = df.drop(df[df['std']==2266.6784666410404].index)\n",
    "#df"
   ]
  },
  {
   "cell_type": "code",
   "execution_count": null,
   "id": "133b4836",
   "metadata": {},
   "outputs": [],
   "source": [
    "#print(df.loc[:,'std'].max())"
   ]
  },
  {
   "cell_type": "code",
   "execution_count": null,
   "id": "b9058db2",
   "metadata": {},
   "outputs": [],
   "source": [
    "from sklearn.cluster import KMeans\n",
    "from sklearn.metrics import accuracy_score\n",
    "%matplotlib inline\n",
    "import matplotlib.pyplot as plt\n",
    "import numpy as np\n",
    "\n",
    "from sklearn.datasets import make_blobs\n",
    "\n",
    "\n",
    "#plt.scatter(X['std'],s=50)"
   ]
  },
  {
   "cell_type": "code",
   "execution_count": null,
   "id": "8d2f76ca",
   "metadata": {},
   "outputs": [],
   "source": [
    "from sklearn.cluster import KMeans\n",
    "from sklearn.metrics import accuracy_score\n",
    "\n",
    "kmeans = KMeans(n_clusters=2)\n",
    "kmeans = kmeans.fit(X)\n",
    "y_kmeans = kmeans.predict(X)\n",
    "\n",
    "centroids = kmeans.cluster_centers_\n",
    "\n",
    "print('centroids: {}'.format(centroids))\n",
    "\n",
    "print('------------')\n",
    "print('prediction on each data: {}'.format(y_kmeans))"
   ]
  },
  {
   "cell_type": "code",
   "execution_count": null,
   "id": "a21961c5",
   "metadata": {},
   "outputs": [],
   "source": [
    "%matplotlib inline\n",
    "import matplotlib.pyplot as plt\n",
    "import numpy as np\n",
    "\n",
    "\n",
    "\n",
    "#X = make_blobs(n_samples=203,centers=2,\n",
    "#                cluster_std=0.60, random_state=0)\n",
    "\n",
    "#y = np.array(X[0],dtype=float)\n",
    "#print(X[1])\n",
    "\n",
    "#print(X[1])\n",
    "\n",
    "\n",
    "plt.scatter(X[:,2],X[:,3],c=y_kmeans, s=50, cmap='brg')"
   ]
  },
  {
   "cell_type": "code",
   "execution_count": null,
   "id": "942aa757",
   "metadata": {},
   "outputs": [],
   "source": []
  }
 ],
 "metadata": {
  "kernelspec": {
   "display_name": "Python 3 (ipykernel)",
   "language": "python",
   "name": "python3"
  },
  "language_info": {
   "codemirror_mode": {
    "name": "ipython",
    "version": 3
   },
   "file_extension": ".py",
   "mimetype": "text/x-python",
   "name": "python",
   "nbconvert_exporter": "python",
   "pygments_lexer": "ipython3",
   "version": "3.8.13"
  },
  "varInspector": {
   "cols": {
    "lenName": 16,
    "lenType": 16,
    "lenVar": 40
   },
   "kernels_config": {
    "python": {
     "delete_cmd_postfix": "",
     "delete_cmd_prefix": "del ",
     "library": "var_list.py",
     "varRefreshCmd": "print(var_dic_list())"
    },
    "r": {
     "delete_cmd_postfix": ") ",
     "delete_cmd_prefix": "rm(",
     "library": "var_list.r",
     "varRefreshCmd": "cat(var_dic_list()) "
    }
   },
   "types_to_exclude": [
    "module",
    "function",
    "builtin_function_or_method",
    "instance",
    "_Feature"
   ],
   "window_display": false
  }
 },
 "nbformat": 4,
 "nbformat_minor": 5
}
